{
 "cells": [
  {
   "cell_type": "markdown",
   "id": "c6572a18-7acb-46ce-9937-efcadfa6e6d8",
   "metadata": {
    "tags": [],
    "pycharm": {
     "name": "#%% md\n"
    }
   },
   "source": [
    "# Introduction to Geospatial Data"
   ]
  },
  {
   "cell_type": "code",
   "execution_count": 5,
   "id": "e1117504-7d9e-49e1-a0de-bcbd2969add5",
   "metadata": {
    "tags": [],
    "pycharm": {
     "name": "#%%\n"
    }
   },
   "outputs": [],
   "source": [
    "%matplotlib inline\n",
    "import pandas as pd\n",
    "import geopandas as gp"
   ]
  },
  {
   "cell_type": "markdown",
   "source": [
    "## Importing the data\n",
    "Geospatial data is used to indicate information related to locations using longitude and latitude coordinates. It is available in form of vector or raster data from GIS file formats or data stores like ESRI shapefiles, GeoJSON files, geopackage files, PostGIS (PostgreSQL) database. We can read the data using the Geopandas library (this runs fiona under the hood; an interface to [GDAL](https://gdal.org)/OGR). Here is how to read and inspect a file, namely shapefile with [all the countries of the world](http://www.naturalearthdata.com/downloads/110m-cultural-vectors/110m-admin-0-countries/):"
   ],
   "metadata": {
    "collapsed": false,
    "pycharm": {
     "name": "#%% md\n"
    }
   }
  },
  {
   "cell_type": "code",
   "execution_count": 6,
   "outputs": [],
   "source": [
    "countries_data = gp.read_file(\"data/ne_110m_admin_0_countries/ne_110m_admin_0_countries.shp\")"
   ],
   "metadata": {
    "collapsed": false,
    "pycharm": {
     "name": "#%%\n"
    }
   }
  },
  {
   "cell_type": "code",
   "execution_count": null,
   "outputs": [],
   "source": [],
   "metadata": {
    "collapsed": false,
    "pycharm": {
     "name": "#%%\n"
    }
   }
  }
 ],
 "metadata": {
  "kernelspec": {
   "display_name": "Python 3 (ipykernel)",
   "language": "python",
   "name": "python3"
  },
  "language_info": {
   "codemirror_mode": {
    "name": "ipython",
    "version": 3
   },
   "file_extension": ".py",
   "mimetype": "text/x-python",
   "name": "python",
   "nbconvert_exporter": "python",
   "pygments_lexer": "ipython3",
   "version": "3.10.4"
  }
 },
 "nbformat": 4,
 "nbformat_minor": 5
}