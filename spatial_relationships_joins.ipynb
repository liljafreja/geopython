{
 "cells": [
  {
   "cell_type": "markdown",
   "source": [
    "# Spatial Relationships: Joins"
   ],
   "metadata": {
    "collapsed": false,
    "pycharm": {
     "name": "#%% md\n"
    }
   }
  },
  {
   "cell_type": "code",
   "execution_count": 19,
   "outputs": [],
   "source": [
    "%matplotlib inline\n",
    "import geopandas"
   ],
   "metadata": {
    "collapsed": false,
    "pycharm": {
     "name": "#%%\n"
    }
   }
  },
  {
   "cell_type": "code",
   "execution_count": 2,
   "outputs": [],
   "source": [
    "countries = geopandas.read_file(\"data/ne_110m_admin_0_countries.zip\")\n",
    "cities = geopandas.read_file(\"data/ne_110m_populated_places.zip\")\n",
    "rivers = geopandas.read_file(\"data/ne_50m_rivers_lake_centerlines.zip\")"
   ],
   "metadata": {
    "collapsed": false,
    "pycharm": {
     "name": "#%%\n"
    }
   }
  },
  {
   "cell_type": "markdown",
   "source": [
    "An important aspect of geospatial data is that we can look at spatial relationships: how two spatial objects relate to each other (whether they overlap, intersect, contain etc.). The topological, set-theoretic relationships in GIS are typically based on the [DE-9IM](https://en.wikipedia.org/wiki/Spatial_relation) model. We create several spatial objects, a polygon, two points and a linestring."
   ],
   "metadata": {
    "collapsed": false,
    "pycharm": {
     "name": "#%% md\n"
    }
   }
  },
  {
   "cell_type": "code",
   "execution_count": 3,
   "outputs": [],
   "source": [
    "belgium = countries.loc[countries['name'] == 'Belgium', 'geometry'].item()\n",
    "paris = cities.loc[cities['name'] == 'Paris', 'geometry'].item()\n",
    "brussels = cities.loc[cities['name'] == 'Brussels', 'geometry'].item()"
   ],
   "metadata": {
    "collapsed": false,
    "pycharm": {
     "name": "#%%\n"
    }
   }
  },
  {
   "cell_type": "code",
   "execution_count": 4,
   "outputs": [],
   "source": [
    "from shapely.geometry import LineString\n",
    "line = LineString([paris, brussels])"
   ],
   "metadata": {
    "collapsed": false,
    "pycharm": {
     "name": "#%%\n"
    }
   }
  },
  {
   "cell_type": "markdown",
   "source": [
    "We want to visualize those geometry objects together using GeoSeries to be able to apply the .plot() method."
   ],
   "metadata": {
    "collapsed": false,
    "pycharm": {
     "name": "#%% md\n"
    }
   }
  },
  {
   "cell_type": "code",
   "execution_count": 8,
   "outputs": [
    {
     "data": {
      "text/plain": "<Axes: >"
     },
     "execution_count": 8,
     "metadata": {},
     "output_type": "execute_result"
    },
    {
     "data": {
      "text/plain": "<Figure size 640x480 with 1 Axes>",
      "image/png": "[encoded data removed]"
     },
     "metadata": {},
     "output_type": "display_data"
    }
   ],
   "source": [
    "geopandas.GeoSeries([belgium, paris, brussels, line]).plot(cmap='tab10')"
   ],
   "metadata": {
    "collapsed": false,
    "pycharm": {
     "name": "#%%\n"
    }
   }
  },
  {
   "cell_type": "code",
   "execution_count": 20,
   "outputs": [
    {
     "data": {
      "text/plain": "True"
     },
     "execution_count": 20,
     "metadata": {},
     "output_type": "execute_result"
    }
   ],
   "source": [
    "brussels.within(belgium) # True\n",
    "belgium.contains(brussels) # True\n",
    "line.intersects(belgium) # True"
   ],
   "metadata": {
    "collapsed": false,
    "pycharm": {
     "name": "#%%\n"
    }
   }
  },
  {
   "cell_type": "markdown",
   "source": [
    "The same methods that are available on individual shapely geometries are also available as methods on GeoSeries / GeoDataFrame objects. For example, if we call the contains method on the world dataset with the paris point, it will do this spatial check for each country in the world dataframe:"
   ],
   "metadata": {
    "collapsed": false,
    "pycharm": {
     "name": "#%% md\n"
    }
   }
  },
  {
   "cell_type": "code",
   "execution_count": 26,
   "outputs": [
    {
     "data": {
      "text/plain": "   iso_a3    name continent     pop_est  gdp_md_est  \\\n55    FRA  France    Europe  67106161.0   2699000.0   \n\n                                             geometry  \n55  MULTIPOLYGON (((2.51357 51.14851, 2.65842 50.7...  ",
      "text/html": "<div>\n<style scoped>\n    .dataframe tbody tr th:only-of-type {\n        vertical-align: middle;\n    }\n\n    .dataframe tbody tr th {\n        vertical-align: top;\n    }\n\n    .dataframe thead th {\n        text-align: right;\n    }\n</style>\n<table border=\"1\" class=\"dataframe\">\n  <thead>\n    <tr style=\"text-align: right;\">\n      <th></th>\n      <th>iso_a3</th>\n      <th>name</th>\n      <th>continent</th>\n      <th>pop_est</th>\n      <th>gdp_md_est</th>\n      <th>geometry</th>\n    </tr>\n  </thead>\n  <tbody>\n    <tr>\n      <th>55</th>\n      <td>FRA</td>\n      <td>France</td>\n      <td>Europe</td>\n      <td>67106161.0</td>\n      <td>2699000.0</td>\n      <td>MULTIPOLYGON (((2.51357 51.14851, 2.65842 50.7...</td>\n    </tr>\n  </tbody>\n</table>\n</div>"
     },
     "execution_count": 26,
     "metadata": {},
     "output_type": "execute_result"
    }
   ],
   "source": [
    "countries.contains(paris) # This outputs a dataframe with a Boolean for each country.\n",
    "countries[countries.contains(paris)]"
   ],
   "metadata": {
    "collapsed": false,
    "pycharm": {
     "name": "#%%\n"
    }
   }
  },
  {
   "cell_type": "code",
   "execution_count": 27,
   "outputs": [
    {
     "data": {
      "text/plain": "    iso_a3      name      continent      pop_est  gdp_md_est  \\\n22     BRA    Brazil  South America  207353391.0   3081000.0   \n35     COL  Colombia  South America   47698524.0    688000.0   \n124    PER      Peru  South America   31036656.0    410400.0   \n\n                                              geometry  \n22   POLYGON ((-57.62513 -30.21629, -56.29090 -28.8...  \n35   POLYGON ((-66.87633 1.25336, -67.06505 1.13011...  \n124  POLYGON ((-69.52968 -10.95173, -68.66508 -12.5...  ",
      "text/html": "<div>\n<style scoped>\n    .dataframe tbody tr th:only-of-type {\n        vertical-align: middle;\n    }\n\n    .dataframe tbody tr th {\n        vertical-align: top;\n    }\n\n    .dataframe thead th {\n        text-align: right;\n    }\n</style>\n<table border=\"1\" class=\"dataframe\">\n  <thead>\n    <tr style=\"text-align: right;\">\n      <th></th>\n      <th>iso_a3</th>\n      <th>name</th>\n      <th>continent</th>\n      <th>pop_est</th>\n      <th>gdp_md_est</th>\n      <th>geometry</th>\n    </tr>\n  </thead>\n  <tbody>\n    <tr>\n      <th>22</th>\n      <td>BRA</td>\n      <td>Brazil</td>\n      <td>South America</td>\n      <td>207353391.0</td>\n      <td>3081000.0</td>\n      <td>POLYGON ((-57.62513 -30.21629, -56.29090 -28.8...</td>\n    </tr>\n    <tr>\n      <th>35</th>\n      <td>COL</td>\n      <td>Colombia</td>\n      <td>South America</td>\n      <td>47698524.0</td>\n      <td>688000.0</td>\n      <td>POLYGON ((-66.87633 1.25336, -67.06505 1.13011...</td>\n    </tr>\n    <tr>\n      <th>124</th>\n      <td>PER</td>\n      <td>Peru</td>\n      <td>South America</td>\n      <td>31036656.0</td>\n      <td>410400.0</td>\n      <td>POLYGON ((-69.52968 -10.95173, -68.66508 -12.5...</td>\n    </tr>\n  </tbody>\n</table>\n</div>"
     },
     "execution_count": 27,
     "metadata": {},
     "output_type": "execute_result"
    }
   ],
   "source": [
    "amazon = rivers[rivers['name'] == 'Amazonas'].geometry.item()\n",
    "countries[countries.crosses(amazon)]  # or .intersects"
   ],
   "metadata": {
    "collapsed": false,
    "pycharm": {
     "name": "#%%\n"
    }
   }
  },
  {
   "cell_type": "markdown",
   "source": [],
   "metadata": {
    "collapsed": false,
    "pycharm": {
     "name": "#%% md\n"
    }
   }
  }
 ],
 "metadata": {
  "kernelspec": {
   "display_name": "Python 3",
   "language": "python",
   "name": "python3"
  },
  "language_info": {
   "codemirror_mode": {
    "name": "ipython",
    "version": 2
   },
   "file_extension": ".py",
   "mimetype": "text/x-python",
   "name": "python",
   "nbconvert_exporter": "python",
   "pygments_lexer": "ipython2",
   "version": "2.7.6"
  }
 },
 "nbformat": 4,
 "nbformat_minor": 0
}